{
 "cells": [
  {
   "cell_type": "markdown",
   "metadata": {},
   "source": [
    "# 데이터 시각화 관련 ipython 프로그램\n",
    "\n",
    "2023 voice 전람회 인지실험 관련 시각화 툴"
   ]
  },
  {
   "cell_type": "code",
   "execution_count": 1,
   "metadata": {},
   "outputs": [],
   "source": [
    "#-*-coding:utf-8-*-\n",
    "import os\n",
    "import numpy as np\n",
    "import matplotlib\n",
    "from  matplotlib import pyplot as plt\n",
    "%matplotlib qt\n",
    "from jamo import h2j, j2hcj\n",
    "import matplotlib.colors as mcolors\n",
    "import matplotlib.ticker as mticker\n",
    "matplotlib.rcParams['font.family'] ='Malgun Gothic'\n",
    "matplotlib.rcParams['axes.unicode_minus'] =False"
   ]
  },
  {
   "cell_type": "markdown",
   "metadata": {},
   "source": [
    "## <b> Data Load </b>"
   ]
  },
  {
   "cell_type": "code",
   "execution_count": 2,
   "metadata": {
    "notebookRunGroups": {
     "groupValue": "1"
    }
   },
   "outputs": [
    {
     "name": "stdout",
     "output_type": "stream",
     "text": [
      "c:\\Users\\dddde\\OneDrive\\바탕 화면\\개발\\Python\\2023전람회\\dataviz\n"
     ]
    }
   ],
   "source": [
    "import glob\n",
    "print(os.getcwd())\n",
    "path = '.\\\\data\\\\*'\n",
    "file_list = glob.glob(path)\n",
    "file_list = [file for file in file_list if file.endswith('.txt')]\n",
    "\n",
    "files = list(map(lambda fileName:open(fileName,'rt', encoding='UTF8'),file_list))"
   ]
  },
  {
   "cell_type": "code",
   "execution_count": 3,
   "metadata": {},
   "outputs": [],
   "source": [
    "def word2jamo(word):\n",
    "  WORD=[]\n",
    "  for i in word:\n",
    "    WORD.append(list(j2hcj(h2j(i))))\n",
    "  return WORD"
   ]
  },
  {
   "cell_type": "code",
   "execution_count": 5,
   "metadata": {
    "notebookRunGroups": {
     "groupValue": "1"
    }
   },
   "outputs": [
    {
     "name": "stdout",
     "output_type": "stream",
     "text": [
      "(3, 8, 6, 5)\n"
     ]
    }
   ],
   "source": [
    "numVowel = 8\n",
    "numF1, numF2 = 6, 5\n",
    "numf0 = 3\n",
    "vowels = {'ㅣ':0,'ㅡ':1,'ㅜ':2,'ㅔ':3,'ㅓ':4,'ㅗ':5,'ㅐ':6,'ㅏ':7}\n",
    "num2vowels = dict(zip(vowels.values(),vowels.keys()))\n",
    "\n",
    "db = np.zeros((numf0,numVowel,numF1,numF2))\n",
    "print(np.array(db).shape)\n",
    "for i in range(numVowel):\n",
    "  for file in files:\n",
    "    for y,line in enumerate(file.readlines()):\n",
    "      line = line.replace(',',' ')\n",
    "      for x,context in enumerate(line.split()):\n",
    "        t = context[0]\n",
    "        if t not in vowels:t = word2jamo(t)[0][1]\n",
    "        db[y//7][vowels[t]][y%7][x] += 1"
   ]
  },
  {
   "cell_type": "code",
   "execution_count": 23,
   "metadata": {},
   "outputs": [
    {
     "name": "stdout",
     "output_type": "stream",
     "text": [
      "5\n"
     ]
    }
   ],
   "source": [
    "A = db.flatten()\n",
    "numbers = np.zeros(100)\n",
    "maxn =0\n",
    "for i in range(1,100):\n",
    "  numbers[i] = (A==i).sum()\n",
    "  if numbers[i]>0: maxn=i\n",
    "plt.plot(numbers)\n",
    "print(maxn)"
   ]
  },
  {
   "cell_type": "markdown",
   "metadata": {},
   "source": [
    "## <b> Data Viz </b>"
   ]
  },
  {
   "cell_type": "code",
   "execution_count": 7,
   "metadata": {},
   "outputs": [],
   "source": [
    "size = 55\n",
    "x = [500,800,1280,2000,3500]\n",
    "y = [200,300,450,680,1000,1200]\n",
    "pitch = [100,150,200]\n",
    "color = list(mcolors.TABLEAU_COLORS.keys())\n",
    "X,Y = np.meshgrid(x,y)"
   ]
  },
  {
   "cell_type": "code",
   "execution_count": 8,
   "metadata": {},
   "outputs": [
    {
     "name": "stderr",
     "output_type": "stream",
     "text": [
      "C:\\Users\\dddde\\AppData\\Local\\Temp\\ipykernel_12240\\3101325198.py:2: RuntimeWarning: More than 20 figures have been opened. Figures created through the pyplot interface (`matplotlib.pyplot.figure`) are retained until explicitly closed and may consume too much memory. (To control this warning, see the rcParam `figure.max_open_warning`). Consider using `matplotlib.pyplot.close()`.\n",
      "  plt.figure()\n"
     ]
    }
   ],
   "source": [
    "def Dataviz(npitch, nvowel):\n",
    "  plt.figure()\n",
    "  plt.title(f\"pitch : {pitch[npitch]} / vowel : {num2vowels[nvowel]}\")\n",
    "  plt.xticks(x)\n",
    "  plt.yticks(y)\n",
    "  plt.scatter(x=X,y=Y,s=size*db[npitch][nvowel],c=mcolors.TABLEAU_COLORS[color[nvowel]])\n",
    "  plt.show()\n",
    "  \n",
    "for p in range(numf0):\n",
    "  for n in range(numVowel):\n",
    "    Dataviz(p,n)"
   ]
  },
  {
   "cell_type": "code",
   "execution_count": 41,
   "metadata": {},
   "outputs": [
    {
     "name": "stderr",
     "output_type": "stream",
     "text": [
      "Traceback (most recent call last):\n",
      "  File \"c:\\Users\\dddde\\AppData\\Local\\Programs\\Python\\Python311\\Lib\\site-packages\\matplotlib\\backends\\backend_qt.py\", line 468, in _draw_idle\n",
      "    self.draw()\n",
      "  File \"c:\\Users\\dddde\\AppData\\Local\\Programs\\Python\\Python311\\Lib\\site-packages\\matplotlib\\backends\\backend_agg.py\", line 400, in draw\n",
      "    self.figure.draw(self.renderer)\n",
      "  File \"c:\\Users\\dddde\\AppData\\Local\\Programs\\Python\\Python311\\Lib\\site-packages\\matplotlib\\artist.py\", line 95, in draw_wrapper\n",
      "    result = draw(artist, renderer, *args, **kwargs)\n",
      "             ^^^^^^^^^^^^^^^^^^^^^^^^^^^^^^^^^^^^^^^\n",
      "  File \"c:\\Users\\dddde\\AppData\\Local\\Programs\\Python\\Python311\\Lib\\site-packages\\matplotlib\\artist.py\", line 72, in draw_wrapper\n",
      "    return draw(artist, renderer)\n",
      "           ^^^^^^^^^^^^^^^^^^^^^^\n",
      "  File \"c:\\Users\\dddde\\AppData\\Local\\Programs\\Python\\Python311\\Lib\\site-packages\\matplotlib\\figure.py\", line 3175, in draw\n",
      "    mimage._draw_list_compositing_images(\n",
      "  File \"c:\\Users\\dddde\\AppData\\Local\\Programs\\Python\\Python311\\Lib\\site-packages\\matplotlib\\image.py\", line 131, in _draw_list_compositing_images\n",
      "    a.draw(renderer)\n",
      "  File \"c:\\Users\\dddde\\AppData\\Local\\Programs\\Python\\Python311\\Lib\\site-packages\\matplotlib\\artist.py\", line 72, in draw_wrapper\n",
      "    return draw(artist, renderer)\n",
      "           ^^^^^^^^^^^^^^^^^^^^^^\n",
      "  File \"c:\\Users\\dddde\\AppData\\Local\\Programs\\Python\\Python311\\Lib\\site-packages\\matplotlib\\axes\\_base.py\", line 3064, in draw\n",
      "    mimage._draw_list_compositing_images(\n",
      "  File \"c:\\Users\\dddde\\AppData\\Local\\Programs\\Python\\Python311\\Lib\\site-packages\\matplotlib\\image.py\", line 131, in _draw_list_compositing_images\n",
      "    a.draw(renderer)\n",
      "  File \"c:\\Users\\dddde\\AppData\\Local\\Programs\\Python\\Python311\\Lib\\site-packages\\matplotlib\\artist.py\", line 72, in draw_wrapper\n",
      "    return draw(artist, renderer)\n",
      "           ^^^^^^^^^^^^^^^^^^^^^^\n",
      "  File \"c:\\Users\\dddde\\AppData\\Local\\Programs\\Python\\Python311\\Lib\\site-packages\\matplotlib\\axis.py\", line 1376, in draw\n",
      "    ticks_to_draw = self._update_ticks()\n",
      "                    ^^^^^^^^^^^^^^^^^^^^\n",
      "  File \"c:\\Users\\dddde\\AppData\\Local\\Programs\\Python\\Python311\\Lib\\site-packages\\matplotlib\\axis.py\", line 1262, in _update_ticks\n",
      "    major_locs = self.get_majorticklocs()\n",
      "                 ^^^^^^^^^^^^^^^^^^^^^^^^\n",
      "  File \"c:\\Users\\dddde\\AppData\\Local\\Programs\\Python\\Python311\\Lib\\site-packages\\matplotlib\\axis.py\", line 1484, in get_majorticklocs\n",
      "    return self.major.locator()\n",
      "           ^^^^^^^^^^^^^^^^^^^^\n",
      "  File \"c:\\Users\\dddde\\AppData\\Local\\Programs\\Python\\Python311\\Lib\\site-packages\\matplotlib\\ticker.py\", line 2341, in __call__\n",
      "    return self.tick_values(vmin, vmax)\n",
      "           ^^^^^^^^^^^^^^^^^^^^^^^^^^^^\n",
      "  File \"c:\\Users\\dddde\\AppData\\Local\\Programs\\Python\\Python311\\Lib\\site-packages\\matplotlib\\ticker.py\", line 2366, in tick_values\n",
      "    log_vmin = math.log(vmin) / math.log(b)\n",
      "               ^^^^^^^^^^^^^^\n",
      "ValueError: math domain error\n"
     ]
    },
    {
     "name": "stdout",
     "output_type": "stream",
     "text": [
      "[ 547.84134076  876.54614522 1402.47383236 2191.36536306 3834.88938535] [ 194.   291.   436.5  659.6  970.  1164. ]\n",
      "[ 515.46391753  824.74226804 1319.58762887 2061.8556701  3608.24742268] [ 194.   291.   436.5  659.6  970.  1164. ]\n",
      "[ 485.   776.  1241.6 1940.  3395. ] [ 194.   291.   436.5  659.6  970.  1164. ]\n",
      "[ 456.3365   730.1384  1168.22144 1825.346   3194.3555 ] [ 194.   291.   436.5  659.6  970.  1164. ]\n",
      "[ 547.84134076  876.54614522 1402.47383236 2191.36536306 3834.88938535] [ 206.18556701  309.27835052  463.91752577  701.03092784 1030.92783505\n",
      " 1237.11340206]\n",
      "[ 515.46391753  824.74226804 1319.58762887 2061.8556701  3608.24742268] [ 206.18556701  309.27835052  463.91752577  701.03092784 1030.92783505\n",
      " 1237.11340206]\n",
      "[ 485.   776.  1241.6 1940.  3395. ] [ 206.18556701  309.27835052  463.91752577  701.03092784 1030.92783505\n",
      " 1237.11340206]\n",
      "[ 456.3365   730.1384  1168.22144 1825.346   3194.3555 ] [ 206.18556701  309.27835052  463.91752577  701.03092784 1030.92783505\n",
      " 1237.11340206]\n"
     ]
    }
   ],
   "source": [
    "dx = 0.97\n",
    "dy = 0.97\n",
    "xx = [-3, -1, 1, 3, -3, -1, 1, 3]\n",
    "yy = [1, 1, 1, 1, -1, -1, -1, -1]\n",
    "size = 55\n",
    "x = np.array([500,800,1280,2000,3500])\n",
    "y = np.array([200,300,450,680,1000,1200])\n",
    "pitch = [100,150,200]\n",
    "color = list(mcolors.TABLEAU_COLORS.keys())\n",
    "X,Y = np.meshgrid(x,y)\n",
    "plt.figure()\n",
    "plt.xticks(x)\n",
    "plt.yticks(y)\n",
    "plt.gca().invert_yaxis()\n",
    "plt.gca().invert_xaxis()\n",
    "plt.gca().set_yscale('log')\n",
    "plt.gca().set_xscale('log')\n",
    "plt.gca().xaxis.set_minor_formatter(mticker.ScalarFormatter())\n",
    "plt.gca().yaxis.set_minor_formatter(mticker.ScalarFormatter())\n",
    "plt.get_current_fig_manager().full_screen_toggle()\n",
    "for vowel in list(vowels.keys()):\n",
    "  a = np.zeros_like(db[0][vowels[vowel]])\n",
    "  for p in range(numf0):\n",
    "    a += db[p][vowels[vowel]]\n",
    "  _x = x * (dx**xx[vowels[vowel]])\n",
    "  _y = y * (dy**yy[vowels[vowel]])\n",
    "  print(_x,_y)\n",
    "  _X, _Y = np.meshgrid(_x, _y)\n",
    "  plt.scatter(x=_X,y=_Y,s=60*a,c=mcolors.TABLEAU_COLORS[list(mcolors.TABLEAU_COLORS.keys())[vowels[vowel]]],alpha=1,label=vowel)\n",
    "plt.legend()\n",
    "plt.savefig('recognition.png')\n",
    "plt.show()"
   ]
  }
 ],
 "metadata": {
  "kernelspec": {
   "display_name": "Python 3",
   "language": "python",
   "name": "python3"
  },
  "language_info": {
   "codemirror_mode": {
    "name": "ipython",
    "version": 3
   },
   "file_extension": ".py",
   "mimetype": "text/x-python",
   "name": "python",
   "nbconvert_exporter": "python",
   "pygments_lexer": "ipython3",
   "version": "3.11.4"
  },
  "orig_nbformat": 4
 },
 "nbformat": 4,
 "nbformat_minor": 2
}
