{
 "cells": [
  {
   "cell_type": "code",
   "execution_count": 16,
   "metadata": {},
   "outputs": [],
   "source": [
    "from transformers import Wav2Vec2ForCTC, Wav2Vec2Processor\n",
    "from datasets import load_dataset\n",
    "import soundfile as sf\n",
    "import torch\n",
    "from jiwer import wer\n",
    "import numpy as np\n",
    "import matplotlib.pyplot as plt\n",
    "import matplotlib\n",
    "%matplotlib qt\n",
    "import librosa"
   ]
  },
  {
   "cell_type": "code",
   "execution_count": 2,
   "metadata": {},
   "outputs": [
    {
     "name": "stderr",
     "output_type": "stream",
     "text": [
      "Special tokens have been added in the vocabulary, make sure the associated word embeddings are fine-tuned or trained.\n"
     ]
    }
   ],
   "source": [
    "processor = Wav2Vec2Processor.from_pretrained(\"kresnik/wav2vec2-large-xlsr-korean\")\n",
    "model = Wav2Vec2ForCTC.from_pretrained(\"kresnik/wav2vec2-large-xlsr-korean\").to('cuda')\n"
   ]
  },
  {
   "cell_type": "code",
   "execution_count": 42,
   "metadata": {},
   "outputs": [],
   "source": [
    "ds = load_dataset(\"kresnik/zeroth_korean\", \"clean\")"
   ]
  },
  {
   "cell_type": "code",
   "execution_count": 46,
   "metadata": {},
   "outputs": [
    {
     "data": {
      "text/plain": [
       "{'file': 'C:/Users/User/.cache/huggingface/datasets/downloads/extracted/ced79e66418d9fe8058679e42f8eac8957dd37121e912335283d1e45da227fdf/test_data_01/003/104\\\\104_003_0253.flac',\n",
       " 'audio': {'path': 'C:/Users/User/.cache/huggingface/datasets/downloads/extracted/ced79e66418d9fe8058679e42f8eac8957dd37121e912335283d1e45da227fdf/test_data_01/003/104\\\\104_003_0253.flac',\n",
       "  'array': array([-0.00030518, -0.00082397, -0.00100708, ..., -0.00012207,\n",
       "          0.00018311, -0.00012207]),\n",
       "  'sampling_rate': 16000},\n",
       " 'text': '현재 백화점과 영화관 등은 오픈해 영업하고 있고 테마파크 및 아파트 등의 공사는 이천 십 팔 년 완공을 목표로 진행돼 왔다',\n",
       " 'speaker_id': 104,\n",
       " 'chapter_id': 3,\n",
       " 'id': '104_003_0253'}"
      ]
     },
     "execution_count": 46,
     "metadata": {},
     "output_type": "execute_result"
    }
   ],
   "source": [
    "ds['test'][2]"
   ]
  },
  {
   "cell_type": "code",
   "execution_count": 48,
   "metadata": {},
   "outputs": [
    {
     "name": "stderr",
     "output_type": "stream",
     "text": [
      "Map: 100%|██████████| 457/457 [01:54<00:00,  4.01 examples/s]"
     ]
    },
    {
     "name": "stdout",
     "output_type": "stream",
     "text": [
      "WER: 0.04728203583797621\n"
     ]
    },
    {
     "name": "stderr",
     "output_type": "stream",
     "text": [
      "\n"
     ]
    }
   ],
   "source": [
    "test_ds = ds['test']\n",
    "\n",
    "def map_to_array(batch):\n",
    "    speech, _ = sf.read(batch[\"file\"])\n",
    "    batch[\"speech\"] = speech\n",
    "    return batch\n",
    "\n",
    "test_ds = test_ds.map(map_to_array)\n",
    "\n",
    "def map_to_pred(batch):\n",
    "    inputs = processor(batch[\"speech\"], sampling_rate=16000, return_tensors=\"pt\", padding=\"longest\")\n",
    "    input_values = inputs.input_values.to(\"cuda\")\n",
    "    \n",
    "    with torch.no_grad():\n",
    "        logits = model(input_values).logits\n",
    "\n",
    "    predicted_ids = torch.argmax(logits, dim=-1)\n",
    "    transcription = processor.batch_decode(predicted_ids)\n",
    "    batch[\"transcription\"] = transcription\n",
    "    return batch\n",
    "\n",
    "result = test_ds.map(map_to_pred, batched=True, batch_size=16, remove_columns=[\"speech\"])\n",
    "    \n",
    "print(\"WER:\", wer(result[\"text\"], result[\"transcription\"]))"
   ]
  },
  {
   "cell_type": "code",
   "execution_count": 52,
   "metadata": {},
   "outputs": [
    {
     "name": "stdout",
     "output_type": "stream",
     "text": [
      "그 바람에 나의 몸도 겹쳐 쓰러지며 한창 피어난 노란 동백꽃 속으로 폭 파묻혀 버렸다 그 바람에 나의 몸두 겹쳐로 쓰러지며 한창 피어난 노란 동백꽃 속으로 폭 파묻혀 버렸다\n"
     ]
    }
   ],
   "source": [
    "print(result[\"text\"][1],result[\"transcription\"][1])"
   ]
  },
  {
   "cell_type": "code",
   "execution_count": 54,
   "metadata": {},
   "outputs": [
    {
     "data": {
      "text/plain": [
       "146"
      ]
     },
     "execution_count": 54,
     "metadata": {},
     "output_type": "execute_result"
    }
   ],
   "source": [
    "sum(list(map(int,[result[\"text\"][i]!=result[\"transcription\"][i] for i in range(len(result[\"text\"]))])))"
   ]
  },
  {
   "cell_type": "code",
   "execution_count": 47,
   "metadata": {},
   "outputs": [
    {
     "name": "stdout",
     "output_type": "stream",
     "text": [
      "['현재 백화점과 영화관 등은 오픈해 영업하고 있고 테마파크 및 아파트 등의 공사는 이천 십 팔 년 완공을 목표로 진행돼 왔다']\n"
     ]
    }
   ],
   "source": [
    "\n",
    "def get_pred(x):\n",
    "        speech, _ = sf.read(x[\"file\"])\n",
    "        x[\"speech\"] = speech\n",
    "        inputs = processor(x[\"speech\"],sampling_rate=16000,return_tensors=\"pt\",padding=\"longest\")\n",
    "        input_values = inputs.input_values.to(\"cuda\")\n",
    "        with torch.no_grad():\n",
    "                logits = model(input_values).logits\n",
    "        pred_id = torch.argmax(logits,dim=-1)\n",
    "        transcription = processor.batch_decode(pred_id)\n",
    "        x[\"transcription\"] = transcription\n",
    "        return x[\"transcription\"]\n",
    "\n",
    "\n",
    "FILE_PATH = './FVA/target_sounds/pungdung.wav'\n",
    "FILE_PATH = ds['test'][2]['file']\n",
    "x = librosa.load(path=FILE_PATH, sr=16000)[0]\n",
    "input_data = {\n",
    "        'file':FILE_PATH,\n",
    "        'audio':{'path':FILE_PATH,\n",
    "                'array':np.array(x),\n",
    "                'sampling_rate':16000},\n",
    "        'speaker_id':0,\n",
    "        'chapter_id':0,\n",
    "        'id':0\n",
    "        }\n",
    "\n",
    "print(get_pred(input_data))\n"
   ]
  }
 ],
 "metadata": {
  "kernelspec": {
   "display_name": "Python 3",
   "language": "python",
   "name": "python3"
  },
  "language_info": {
   "codemirror_mode": {
    "name": "ipython",
    "version": 3
   },
   "file_extension": ".py",
   "mimetype": "text/x-python",
   "name": "python",
   "nbconvert_exporter": "python",
   "pygments_lexer": "ipython3",
   "version": "3.11.6"
  },
  "orig_nbformat": 4
 },
 "nbformat": 4,
 "nbformat_minor": 2
}
