{
 "cells": [
  {
   "cell_type": "code",
   "execution_count": 67,
   "metadata": {
    "notebookRunGroups": {
     "groupValue": "2"
    }
   },
   "outputs": [],
   "source": [
    "import os\n",
    "import pandas as pd\n",
    "import numpy as np\n",
    "import matplotlib\n",
    "from  matplotlib import pyplot as plt\n",
    "%matplotlib qt\n",
    "import scipy\n",
    "import librosa\n",
    "import librosa.display\n",
    "from scipy.io import wavfile\n",
    "import scipy.fftpack as fft\n",
    "from scipy.signal import get_window\n",
    "import FVA.FVA as fva\n",
    "from FVA.lpc import *\n",
    "from FVA.detect import *\n",
    "from FVA.mfcc import *\n",
    "from FVA.animation import *\n",
    "from FVAmanager import *\n",
    "from DB.DBmanager import *"
   ]
  },
  {
   "cell_type": "code",
   "execution_count": 73,
   "metadata": {
    "notebookRunGroups": {
     "groupValue": "1"
    }
   },
   "outputs": [
    {
     "name": "stdout",
     "output_type": "stream",
     "text": [
      "13/13 [==============================] - 3s 243ms/step\n",
      "CREPE: Saved the estimated frequencies and confidence values at FVA/target_sounds/recorded.f0.csv\n",
      "[773.4930830039525, 1194.2842144268775, 1928.2855731225295, 2635.051259881423, 3464.377470355731, 4254.211956521739, 5041.322875494071, 5831.157361660079, 6588.309041501976, 7453.041625494071, 9020.454545454544, 9848.418972332016, 10635.529891304348]\n",
      "202.86230952380953\n"
     ]
    }
   ],
   "source": [
    "bias  = \"FVA/target_sounds/\"\n",
    "name  = \"recorded.wav\"\n",
    "FM  =   FVAmanager(bias+name)\n",
    "fm  =   FM.FR_formants()\n",
    "fp  =   FM.FR_pitch()\n",
    "print(fm,fp,sep='\\n')\n",
    "dellist = []\n",
    "for i,x in enumerate(fm):\n",
    "    if x < fp + 50 and x > fp - 50: dellist.append(i)\n",
    "for i in dellist:\n",
    "    del fm[i]"
   ]
  },
  {
   "cell_type": "code",
   "execution_count": 74,
   "metadata": {
    "notebookRunGroups": {
     "groupValue": "1"
    }
   },
   "outputs": [
    {
     "name": "stdout",
     "output_type": "stream",
     "text": [
      "[773.4930830039525, 1194.2842144268775, 1928.2855731225295, 2635.051259881423, 3464.377470355731, 4254.211956521739, 5041.322875494071, 5831.157361660079, 6588.309041501976, 7453.041625494071, 9020.454545454544, 9848.418972332016, 10635.529891304348]\n",
      "202.86230952380953\n"
     ]
    }
   ],
   "source": [
    "print(fm,fp,sep='\\n')"
   ]
  },
  {
   "cell_type": "code",
   "execution_count": 68,
   "metadata": {
    "notebookRunGroups": {
     "groupValue": "2"
    }
   },
   "outputs": [
    {
     "name": "stdout",
     "output_type": "stream",
     "text": [
      "                         id    audio answer                        at  \\\n",
      "0      007jtO0zboMfmk6WmEbV  2_1.wav      ㅗ  2023-09-19T14:04:42.169Z   \n",
      "1      00GdM1CpptAw1UttIfYg  7_7.wav      ㅐ  2023-09-26T12:25:47.279Z   \n",
      "2      00oWxK2Sig2FQ4dAHbO9  1_3.wav      ㅜ  2023-09-26T12:30:59.025Z   \n",
      "3      01bEPzEm2zvvQ5bXVEA6  8_4.wav      ㅏ  2023-09-28T14:15:13.334Z   \n",
      "4      01lyhssv0mmHv4aoOdnp  4_2.wav      ㅗ  2023-09-26T13:02:26.094Z   \n",
      "...                     ...      ...    ...                       ...   \n",
      "10227  zxeEOvxplVuy1cJwcJQZ  9_8.wav      ㅔ  2023-09-18T14:04:11.991Z   \n",
      "10228  zxeSqLYlV4lHLIp9iozg  8_5.wav      ㅏ  2023-09-27T14:29:59.902Z   \n",
      "10229  zyx8FzyY6CZgnkbD4fL2  4_4.wav      ㅓ  2023-09-11T16:47:22.943Z   \n",
      "10230  zzlrP5A3adabEEpoz3xZ  6_5.wav      ㅐ  2023-09-27T12:57:15.051Z   \n",
      "10231  zzs3vTc0mOkqH7pSjiC6  6_4.wav      ㅗ  2023-09-27T01:31:49.926Z   \n",
      "\n",
      "                               user  \n",
      "0      dznwXCu4dMaMrSrKWoUy1QTLQht1  \n",
      "1      Do457fhfRKex3AtI5dQ8O2U7WEJ3  \n",
      "2      95qAzR5d0SVmQv1dQKLg3amtOiC2  \n",
      "3      1tRUN17nz8SNpraO34mm0xJ2VS42  \n",
      "4      ueZ3qVI3SFOZ1nWx2Al4Fx0pv2d2  \n",
      "...                             ...  \n",
      "10227  dznwXCu4dMaMrSrKWoUy1QTLQht1  \n",
      "10228  1tRUN17nz8SNpraO34mm0xJ2VS42  \n",
      "10229  dznwXCu4dMaMrSrKWoUy1QTLQht1  \n",
      "10230  ZK04e1bLJsXgM7QUlOrHgIzTbFo1  \n",
      "10231  uwgxF6VQmggSKpqimilzt8CCpM42  \n",
      "\n",
      "[10232 rows x 5 columns]\n",
      "                              id name                       email       phone\n",
      "0   1tRUN17nz8SNpraO34mm0xJ2VS42  방희준        banghj1110@gmail.com  1031443382\n",
      "1   8VmwhSj0CZOP98FGTSgWVh1elMK2  변상영         hufsbog22@gmail.com  1052549221\n",
      "2   95qAzR5d0SVmQv1dQKLg3amtOiC2  강동오         louie0530@naver.com  1037650591\n",
      "3   Be6njfAEawW9rmwE1LQV5ZfnlcB2  서지혁      jihyuksur921@gmail.com  1027436000\n",
      "4   Do457fhfRKex3AtI5dQ8O2U7WEJ3  김현서       victoria524@naver.com  1082447820\n",
      "5   E9HwoEHK6iZ5wuMaFYxaFZaljVo2  지민준  ddddewang1@cbs-h.cbe.go.kr  1082568240\n",
      "6   FUQ7bswv1RbNsxPCudHciCNAOZz2  최홍제           enc2586@gmail.com  1031757526\n",
      "7   LYrFonkX4AVb0UQrELmpCFA72On2  곽민욱    rhkralsdnr0401@gmail.com  1092947595\n",
      "8   QWudxVycl7NxgKUBRMziC4fyIFm1  이종인         jjongin07@gmail.com  1098241016\n",
      "9   ZK04e1bLJsXgM7QUlOrHgIzTbFo1  송승환    gofodosoao0322@naver.com  1034083553\n",
      "10  dznwXCu4dMaMrSrKWoUy1QTLQht1  노수빈  subinjjang050309@naver.com  1020362680\n",
      "11  lFlcx6WlifOcfSjFZgdFP7hkVf82  임준혁      impala051212@gmail.com  1097156631\n",
      "12  ueZ3qVI3SFOZ1nWx2Al4Fx0pv2d2  양세빈         ysb625625@naver.com  1065664100\n",
      "13  uwgxF6VQmggSKpqimilzt8CCpM42  김지은     ggobnancheeze@naver.com  1058003654\n",
      "14  uy7oxru7rrRZZjHJ29jYGrWAP7f1  정도일           doilman@naver.com  1028172889\n",
      "15  yWAbgGiM1DcUw2sCCGIGkU1JguX2  권덕윤         duck05220@gmail.com  1034002430\n",
      "16  zPpgwetVy5WlW9B2XpDJbLDW7f82  최희웡     chwchlgmldnjs@naver.com  1098333404\n"
     ]
    }
   ],
   "source": [
    "result, users   =   getDB()\n",
    "print(result)\n",
    "print(users)"
   ]
  },
  {
   "cell_type": "code",
   "execution_count": 69,
   "metadata": {
    "notebookRunGroups": {
     "groupValue": "2"
    }
   },
   "outputs": [],
   "source": [
    "formants = pd.read_excel(\"DB/sounds.xlsx\")"
   ]
  },
  {
   "cell_type": "code",
   "execution_count": 70,
   "metadata": {
    "notebookRunGroups": {
     "groupValue": "2"
    }
   },
   "outputs": [],
   "source": [
    "vowels = {'ㅏ':0,'ㅓ':1,'ㅗ':2,'ㅜ':3,'ㅡ':4,'ㅣ':5,'ㅐ':6,'ㅔ':7}\n",
    "counts = np.zeros((8,11,11))"
   ]
  },
  {
   "cell_type": "code",
   "execution_count": 71,
   "metadata": {
    "notebookRunGroups": {
     "groupValue": "2"
    }
   },
   "outputs": [],
   "source": [
    "for i in range(result.shape[0]):\n",
    "  counts[vowels[result['answer'][i]]][int(result['audio'][i].split('_')[0])][int(result['audio'][i].split('_')[1].split('.')[0])]+=1"
   ]
  },
  {
   "cell_type": "code",
   "execution_count": 75,
   "metadata": {
    "notebookRunGroups": {
     "groupValue": "1"
    }
   },
   "outputs": [
    {
     "name": "stdout",
     "output_type": "stream",
     "text": [
      "805.4658653089753 1187.0719034819883\n"
     ]
    }
   ],
   "source": [
    "F1 = [float(formants[i+1][0]) for i in range(10)]\n",
    "F2 = [float(formants[i+1][1]) for i in range(10)]\n",
    "logF1 = np.log10(np.array(F1))\n",
    "logF2 = np.log10(np.array(F2))\n",
    "nwF1 = np.log10(np.array([fm[0]]))[0]\n",
    "nwF2 = np.log10(np.array([fm[1]]))[0]\n",
    "nwF1in  = -1\n",
    "nwF1v   = 987654321.\n",
    "nwF2in  = -1\n",
    "nwF2v   = 987654321.\n",
    "for i in range(10):\n",
    "  if nwF1v> abs(logF1[i]-nwF1):\n",
    "    nwF1v = abs(logF1[i]-nwF1)\n",
    "    nwF1in= i\n",
    "  if nwF2v> abs(logF2[i]-nwF2):\n",
    "    nwF2v = abs(logF2[i]-nwF2)\n",
    "    nwF2in= i\n",
    "print(F1[nwF1in],F2[nwF2in])"
   ]
  },
  {
   "cell_type": "code",
   "execution_count": 76,
   "metadata": {
    "notebookRunGroups": {
     "groupValue": "1"
    }
   },
   "outputs": [
    {
     "name": "stdout",
     "output_type": "stream",
     "text": [
      "ㅏ\n"
     ]
    }
   ],
   "source": [
    "tmp = counts.transpose(1, 2, 0)\n",
    "print({v:k for k,v in vowels.items()}[tmp[nwF1in+1][nwF2in+1].argmax()])"
   ]
  },
  {
   "cell_type": "code",
   "execution_count": 72,
   "metadata": {
    "notebookRunGroups": {
     "groupValue": "2"
    }
   },
   "outputs": [],
   "source": [
    "def softmax(x): # numpy array!!\n",
    "    return np.exp(x) / np.sum(np.exp(x), axis=0)\n",
    "\n",
    "def probability(a):\n",
    "    sum = a.sum()\n",
    "    return a/sum"
   ]
  },
  {
   "cell_type": "code",
   "execution_count": 77,
   "metadata": {
    "notebookRunGroups": {
     "groupValue": "1"
    }
   },
   "outputs": [
    {
     "data": {
      "text/plain": [
       "array([113.,   6.,   0.,   0.,   0.,   0.,   0.,   0.])"
      ]
     },
     "execution_count": 77,
     "metadata": {},
     "output_type": "execute_result"
    }
   ],
   "source": [
    "tmp[nwF1in+1][nwF2in+1]"
   ]
  },
  {
   "cell_type": "code",
   "execution_count": 78,
   "metadata": {
    "notebookRunGroups": {
     "groupValue": "1"
    }
   },
   "outputs": [
    {
     "name": "stdout",
     "output_type": "stream",
     "text": [
      "ㅏ: 95.0%\n",
      "ㅓ: 5.0%\n",
      "ㅗ: 0.0%\n",
      "ㅜ: 0.0%\n",
      "Pitch : 202.9Hz\n",
      "Formants : 773.5Hz, 1194.3Hz, 1928.3Hz, 2635.1Hz\n"
     ]
    }
   ],
   "source": [
    "a = np.array(tmp[nwF1in+1][nwF2in+1])\n",
    "b = probability(a)\n",
    "a = softmax(a)\n",
    "\n",
    "precision = 1\n",
    "pairs_a = [[round(a[i]*100,precision),list(vowels.keys())[i]] for i in range(len(vowels.items()))]\n",
    "pairs_b = [[round(b[i]*100,precision),list(vowels.keys())[i]] for i in range(len(vowels.items()))]\n",
    "pairs_b = sorted(pairs_b,key=lambda x:x[0],reverse=True)\n",
    "\n",
    "nVW = 4\n",
    "for x in pairs_b[:nVW]:\n",
    "    print(x[1],\": \",x[0],\"%\",sep='',end='\\n')\n",
    "    \n",
    "print(f\"Pitch : {round(fp,1)}Hz\")\n",
    "\n",
    "print(f'Formants : ',end='')\n",
    "nFM = 4\n",
    "for i,x in enumerate(fm[:nFM]):\n",
    "    print(round(x,1),\"Hz\",sep='',end='\\n' if i+1==nFM else ', ')"
   ]
  }
 ],
 "metadata": {
  "kernelspec": {
   "display_name": "Python 3",
   "language": "python",
   "name": "python3"
  },
  "language_info": {
   "codemirror_mode": {
    "name": "ipython",
    "version": 3
   },
   "file_extension": ".py",
   "mimetype": "text/x-python",
   "name": "python",
   "nbconvert_exporter": "python",
   "pygments_lexer": "ipython3",
   "version": "3.11.5"
  },
  "orig_nbformat": 4
 },
 "nbformat": 4,
 "nbformat_minor": 2
}
