{
 "cells": [
  {
   "cell_type": "code",
   "execution_count": 12,
   "metadata": {
    "notebookRunGroups": {
     "groupValue": "2"
    }
   },
   "outputs": [],
   "source": [
    "import os\n",
    "import pandas as pd\n",
    "import numpy as np\n",
    "import matplotlib\n",
    "from  matplotlib import pyplot as plt\n",
    "%matplotlib qt\n",
    "import scipy\n",
    "import librosa\n",
    "import librosa.display\n",
    "from scipy.io import wavfile\n",
    "import scipy.fftpack as fft\n",
    "from scipy.signal import get_window\n",
    "import FVA.FVA as fva\n",
    "from FVA.lpc import *\n",
    "from FVA.detect import *\n",
    "from FVA.mfcc import *\n",
    "from FVA.animation import *\n",
    "from FVAmanager import *\n",
    "from DB.DBmanager import *"
   ]
  },
  {
   "cell_type": "code",
   "execution_count": 23,
   "metadata": {
    "notebookRunGroups": {
     "groupValue": "1"
    }
   },
   "outputs": [
    {
     "name": "stdout",
     "output_type": "stream",
     "text": [
      "5/5 [==============================] - 1s 234ms/step\n",
      "CREPE: Saved the estimated frequencies and confidence values at FVA/target_sounds/recorded.f0.csv\n",
      "[333.63698122529644, 595.0994318181818, 2686.7990365612645, 3186.5736166007905, 3812.994071146245, 5206.098690711462, 5693.617218379446, 6141.64402173913, 6818.450469367589, 7044.506546442687, 7605.56138833992, 9040.881299407114]\n",
      "112.318828125\n"
     ]
    }
   ],
   "source": [
    "bias  = \"FVA/target_sounds/\"\n",
    "name  = \"recorded.wav\"\n",
    "FM  =   FVAmanager(bias+name)\n",
    "fm  =   FM.FR_formants()\n",
    "fp  =   FM.FR_pitch()\n",
    "print(fm,fp,sep='\\n')\n",
    "dellist = []\n",
    "for i,x in enumerate(fm):\n",
    "    if x < fp + 70 and x > fp - 70: dellist.append(i)\n",
    "for i in dellist:\n",
    "    del fm[i]"
   ]
  },
  {
   "cell_type": "code",
   "execution_count": 24,
   "metadata": {
    "notebookRunGroups": {
     "groupValue": "1"
    }
   },
   "outputs": [
    {
     "name": "stdout",
     "output_type": "stream",
     "text": [
      "[333.63698122529644, 595.0994318181818, 2686.7990365612645, 3186.5736166007905, 3812.994071146245, 5206.098690711462, 5693.617218379446, 6141.64402173913, 6818.450469367589, 7044.506546442687, 7605.56138833992, 9040.881299407114]\n",
      "112.318828125\n"
     ]
    }
   ],
   "source": [
    "print(fm,fp,sep='\\n')"
   ]
  },
  {
   "cell_type": "code",
   "execution_count": 13,
   "metadata": {
    "notebookRunGroups": {
     "groupValue": "2"
    }
   },
   "outputs": [],
   "source": [
    "formants        =   pd.read_excel(\"DB/sounds.xlsx\")\n",
    "nF1, nF2        =   10, 10\n",
    "result, users   =   getDB()\n",
    "formants        =   pd.read_excel(\"DB/sounds.xlsx\")\n",
    "vowels          =   {'ㅏ':0,'ㅓ':1,'ㅗ':2,'ㅜ':3,'ㅡ':4,'ㅣ':5,'ㅐ':6,'ㅔ':7}\n",
    "colors          =   ['red','green','orange','dodgerblue','deeppink','aqua','blueviolet','yellow']\n",
    "counts          =   np.zeros((8,nF1,nF2))\n",
    "userDict        =   {a[0]:a[1] for a in users.values.tolist()}"
   ]
  },
  {
   "cell_type": "code",
   "execution_count": 14,
   "metadata": {
    "notebookRunGroups": {
     "groupValue": "2"
    }
   },
   "outputs": [],
   "source": [
    "def toymd(x):\n",
    "   return x.split('T')[0]\n",
    "\n",
    "def countSetup(namefilter=None,timefilter=None):\n",
    "   \"\"\"\n",
    "   Args:\n",
    "      namefilter (list): [names]\n",
    "      timefilter (list): [start, end] with \"2023-10-03\" style\n",
    "   \"\"\"\n",
    "   counts = np.zeros((8,nF1,nF2))\n",
    "   for x in result.values.tolist():\n",
    "      if (namefilter is None) or (userDict.get(x[4],None) in namefilter):\n",
    "         if (timefilter is None) or (timefilter[0]<=toymd(x[3]) and timefilter[0]<=toymd(x[3])):\n",
    "            counts[vowels[x[2]]][int(x[1].split('_')[0])-1][int(x[1].split('_')[1].split('.')[0])-1] += 1\n",
    "   \n",
    "   return counts.transpose(1,2,0)"
   ]
  },
  {
   "cell_type": "code",
   "execution_count": 15,
   "metadata": {
    "notebookRunGroups": {
     "groupValue": "2"
    }
   },
   "outputs": [
    {
     "name": "stdout",
     "output_type": "stream",
     "text": [
      "1300.0\n"
     ]
    }
   ],
   "source": [
    "NameFilter = ['노수빈']\n",
    "TimeFilter = None#['2023-09-27','2023-10-03']\n",
    "\n",
    "board = countSetup(namefilter=NameFilter,timefilter=TimeFilter)\n",
    "print(board.sum())"
   ]
  },
  {
   "cell_type": "code",
   "execution_count": 25,
   "metadata": {
    "notebookRunGroups": {
     "groupValue": "1"
    }
   },
   "outputs": [
    {
     "name": "stdout",
     "output_type": "stream",
     "text": [
      "363.34823728159995 620.6500000000001\n"
     ]
    }
   ],
   "source": [
    "F1 = [float(formants[i+1][0]) for i in range(10)]\n",
    "F2 = [float(formants[i+1][1]) for i in range(10)]\n",
    "logF1 = np.log10(np.array(F1))\n",
    "logF2 = np.log10(np.array(F2))\n",
    "nwF1 = np.log10(np.array([fm[0]]))[0]\n",
    "nwF2 = np.log10(np.array([fm[1]]))[0]\n",
    "nwF1in  = -1\n",
    "nwF1v   = 987654321.\n",
    "nwF2in  = -1\n",
    "nwF2v   = 987654321.\n",
    "for i in range(10):\n",
    "  if nwF1v> abs(logF1[i]-nwF1):\n",
    "    nwF1v = abs(logF1[i]-nwF1)\n",
    "    nwF1in= i\n",
    "  if nwF2v> abs(logF2[i]-nwF2):\n",
    "    nwF2v = abs(logF2[i]-nwF2)\n",
    "    nwF2in= i\n",
    "print(F1[nwF1in],F2[nwF2in])"
   ]
  },
  {
   "cell_type": "code",
   "execution_count": 26,
   "metadata": {
    "notebookRunGroups": {
     "groupValue": "1"
    }
   },
   "outputs": [
    {
     "name": "stdout",
     "output_type": "stream",
     "text": [
      "ㅗ\n"
     ]
    }
   ],
   "source": [
    "print({v:k for k,v in vowels.items()}[board[nwF1in][nwF2in].argmax()])"
   ]
  },
  {
   "cell_type": "code",
   "execution_count": 16,
   "metadata": {
    "notebookRunGroups": {
     "groupValue": "2"
    }
   },
   "outputs": [],
   "source": [
    "def softmax(x): # numpy array!!\n",
    "    return np.exp(x) / np.sum(np.exp(x), axis=0)\n",
    "\n",
    "def probability(a):\n",
    "    sum = a.sum()\n",
    "    return a/sum"
   ]
  },
  {
   "cell_type": "code",
   "execution_count": 27,
   "metadata": {
    "notebookRunGroups": {
     "groupValue": "1"
    }
   },
   "outputs": [
    {
     "data": {
      "text/plain": [
       "array([ 0.,  0., 12.,  0.,  0.,  0.,  0.,  0.])"
      ]
     },
     "execution_count": 27,
     "metadata": {},
     "output_type": "execute_result"
    }
   ],
   "source": [
    "board[nwF1in][nwF2in]"
   ]
  },
  {
   "cell_type": "code",
   "execution_count": 28,
   "metadata": {
    "notebookRunGroups": {
     "groupValue": "1"
    }
   },
   "outputs": [
    {
     "name": "stdout",
     "output_type": "stream",
     "text": [
      "ㅗ: 100.0%\n",
      "ㅏ: 0.0%\n",
      "ㅓ: 0.0%\n",
      "ㅜ: 0.0%\n",
      "Pitch : 112.3Hz\n",
      "Formants : 333.6Hz, 595.1Hz, 2686.8Hz, 3186.6Hz\n"
     ]
    }
   ],
   "source": [
    "a = np.array(board[nwF1in][nwF2in])\n",
    "b = probability(a)\n",
    "a = softmax(a)\n",
    "\n",
    "precision = 1\n",
    "pairs_a = [[round(a[i]*100,precision),list(vowels.keys())[i]] for i in range(len(vowels.items()))]\n",
    "pairs_b = [[round(b[i]*100,precision),list(vowels.keys())[i]] for i in range(len(vowels.items()))]\n",
    "pairs_b = sorted(pairs_b,key=lambda x:x[0],reverse=True)\n",
    "\n",
    "nVW = 4\n",
    "for x in pairs_b[:nVW]:\n",
    "    print(x[1],\": \",x[0],\"%\",sep='',end='\\n')\n",
    "    \n",
    "print(f\"Pitch : {round(fp,1)}Hz\")\n",
    "\n",
    "print(f'Formants : ',end='')\n",
    "nFM = 4\n",
    "for i,x in enumerate(fm[:nFM]):\n",
    "    print(round(x,1),\"Hz\",sep='',end='\\n' if i+1==nFM else ', ')"
   ]
  }
 ],
 "metadata": {
  "kernelspec": {
   "display_name": "Python 3",
   "language": "python",
   "name": "python3"
  },
  "language_info": {
   "codemirror_mode": {
    "name": "ipython",
    "version": 3
   },
   "file_extension": ".py",
   "mimetype": "text/x-python",
   "name": "python",
   "nbconvert_exporter": "python",
   "pygments_lexer": "ipython3",
   "version": "3.11.6"
  },
  "orig_nbformat": 4
 },
 "nbformat": 4,
 "nbformat_minor": 2
}
