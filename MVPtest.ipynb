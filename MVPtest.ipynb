{
 "cells": [
  {
   "cell_type": "code",
   "execution_count": 1,
   "metadata": {
    "notebookRunGroups": {
     "groupValue": "2"
    }
   },
   "outputs": [],
   "source": [
    "import os\n",
    "import pandas as pd\n",
    "import numpy as np\n",
    "import matplotlib\n",
    "from  matplotlib import pyplot as plt\n",
    "%matplotlib qt\n",
    "import scipy\n",
    "import librosa\n",
    "import librosa.display\n",
    "from scipy.io import wavfile\n",
    "import scipy.fftpack as fft\n",
    "from scipy.signal import get_window\n",
    "import FVA.FVA as fva\n",
    "from FVA.lpc import *\n",
    "from FVA.detect import *\n",
    "from FVA.mfcc import *\n",
    "from FVA.animation import *\n",
    "from FVAmanager import *\n",
    "from DB.DBmanager import *"
   ]
  },
  {
   "cell_type": "code",
   "execution_count": 6,
   "metadata": {
    "notebookRunGroups": {
     "groupValue": "1"
    }
   },
   "outputs": [
    {
     "name": "stdout",
     "output_type": "stream",
     "text": [
      "13/13 [==============================] - 3s 244ms/step\n",
      "CREPE: Saved the estimated frequencies and confidence values at FVA/target_sounds/recorded.f0.csv\n",
      "[70.81274703557312, 1402.637104743083, 3389.479372529644, 5184.310153162055, 5769.877099802371, 6215.180335968379, 6645.50395256917, 7019.994441699604, 7365.887475296442, 7590.581768774703, 9625.086462450592, 10570.164278656126]\n",
      "59.233\n"
     ]
    }
   ],
   "source": [
    "bias  = \"FVA/target_sounds/\"\n",
    "name  = \"recorded.wav\"\n",
    "FM  =   FVAmanager(bias+name)\n",
    "fm  =   FM.FR_formants()\n",
    "fp  =   FM.FR_pitch()\n",
    "print(fm,fp,sep='\\n')\n",
    "dellist = []\n",
    "for i,x in enumerate(fm):\n",
    "    if x < fp + 50 and x > fp - 50: dellist.append(i)\n",
    "for i in dellist:\n",
    "    del fm[i]"
   ]
  },
  {
   "cell_type": "code",
   "execution_count": 7,
   "metadata": {
    "notebookRunGroups": {
     "groupValue": "1"
    }
   },
   "outputs": [
    {
     "name": "stdout",
     "output_type": "stream",
     "text": [
      "[1402.637104743083, 3389.479372529644, 5184.310153162055, 5769.877099802371, 6215.180335968379, 6645.50395256917, 7019.994441699604, 7365.887475296442, 7590.581768774703, 9625.086462450592, 10570.164278656126]\n",
      "59.233\n"
     ]
    }
   ],
   "source": [
    "print(fm,fp,sep='\\n')"
   ]
  },
  {
   "cell_type": "code",
   "execution_count": 2,
   "metadata": {
    "notebookRunGroups": {
     "groupValue": "2"
    }
   },
   "outputs": [],
   "source": [
    "formants        =   pd.read_excel(\"DB/sounds.xlsx\")\n",
    "nF1, nF2        =   10, 10\n",
    "result, users   =   getDB()\n",
    "formants        =   pd.read_excel(\"DB/sounds.xlsx\")\n",
    "vowels          =   {'ㅏ':0,'ㅓ':1,'ㅗ':2,'ㅜ':3,'ㅡ':4,'ㅣ':5,'ㅐ':6,'ㅔ':7}\n",
    "colors          =   ['red','green','orange','dodgerblue','deeppink','aqua','blueviolet','yellow']\n",
    "counts          =   np.zeros((8,nF1,nF2))\n",
    "userDict        =   {a[0]:a[1] for a in users.values.tolist()}"
   ]
  },
  {
   "cell_type": "code",
   "execution_count": 3,
   "metadata": {
    "notebookRunGroups": {
     "groupValue": "2"
    }
   },
   "outputs": [],
   "source": [
    "def toymd(x):\n",
    "   return x.split('T')[0]\n",
    "\n",
    "def countSetup(namefilter=None,timefilter=None):\n",
    "   \"\"\"\n",
    "   Args:\n",
    "      namefilter (list): [names]\n",
    "      timefilter (list): [start, end] with \"2023-10-03\" style\n",
    "   \"\"\"\n",
    "   counts = np.zeros((8,nF1,nF2))\n",
    "   for x in result.values.tolist():\n",
    "      if (namefilter is None) or (userDict.get(x[4],None) in namefilter):\n",
    "         if (timefilter is None) or (timefilter[0]<=toymd(x[3]) and timefilter[0]<=toymd(x[3])):\n",
    "            counts[vowels[x[2]]][int(x[1].split('_')[0])-1][int(x[1].split('_')[1].split('.')[0])-1] += 1\n",
    "   \n",
    "   return counts.transpose(1,2,0)"
   ]
  },
  {
   "cell_type": "code",
   "execution_count": 4,
   "metadata": {
    "notebookRunGroups": {
     "groupValue": "2"
    }
   },
   "outputs": [
    {
     "name": "stdout",
     "output_type": "stream",
     "text": [
      "1225.0\n"
     ]
    }
   ],
   "source": [
    "NameFilter = ['노수빈']\n",
    "TimeFilter = None#['2023-09-27','2023-10-03']\n",
    "\n",
    "board = countSetup(namefilter=NameFilter,timefilter=TimeFilter)\n",
    "print(board.sum())"
   ]
  },
  {
   "cell_type": "code",
   "execution_count": 8,
   "metadata": {
    "notebookRunGroups": {
     "groupValue": "1"
    }
   },
   "outputs": [
    {
     "name": "stdout",
     "output_type": "stream",
     "text": [
      "1200.0 3500.0\n"
     ]
    }
   ],
   "source": [
    "F1 = [float(formants[i+1][0]) for i in range(10)]\n",
    "F2 = [float(formants[i+1][1]) for i in range(10)]\n",
    "logF1 = np.log10(np.array(F1))\n",
    "logF2 = np.log10(np.array(F2))\n",
    "nwF1 = np.log10(np.array([fm[0]]))[0]\n",
    "nwF2 = np.log10(np.array([fm[1]]))[0]\n",
    "nwF1in  = -1\n",
    "nwF1v   = 987654321.\n",
    "nwF2in  = -1\n",
    "nwF2v   = 987654321.\n",
    "for i in range(10):\n",
    "  if nwF1v> abs(logF1[i]-nwF1):\n",
    "    nwF1v = abs(logF1[i]-nwF1)\n",
    "    nwF1in= i\n",
    "  if nwF2v> abs(logF2[i]-nwF2):\n",
    "    nwF2v = abs(logF2[i]-nwF2)\n",
    "    nwF2in= i\n",
    "print(F1[nwF1in],F2[nwF2in])"
   ]
  },
  {
   "cell_type": "code",
   "execution_count": 9,
   "metadata": {
    "notebookRunGroups": {
     "groupValue": "1"
    }
   },
   "outputs": [
    {
     "name": "stdout",
     "output_type": "stream",
     "text": [
      "ㅐ\n"
     ]
    }
   ],
   "source": [
    "print({v:k for k,v in vowels.items()}[board[nwF1in][nwF2in].argmax()])"
   ]
  },
  {
   "cell_type": "code",
   "execution_count": 5,
   "metadata": {
    "notebookRunGroups": {
     "groupValue": "2"
    }
   },
   "outputs": [],
   "source": [
    "def softmax(x): # numpy array!!\n",
    "    return np.exp(x) / np.sum(np.exp(x), axis=0)\n",
    "\n",
    "def probability(a):\n",
    "    sum = a.sum()\n",
    "    return a/sum"
   ]
  },
  {
   "cell_type": "code",
   "execution_count": 10,
   "metadata": {
    "notebookRunGroups": {
     "groupValue": "1"
    }
   },
   "outputs": [
    {
     "data": {
      "text/plain": [
       "array([0., 0., 0., 0., 0., 0., 9., 0.])"
      ]
     },
     "execution_count": 10,
     "metadata": {},
     "output_type": "execute_result"
    }
   ],
   "source": [
    "board[nwF1in][nwF2in]"
   ]
  },
  {
   "cell_type": "code",
   "execution_count": 11,
   "metadata": {
    "notebookRunGroups": {
     "groupValue": "1"
    }
   },
   "outputs": [
    {
     "name": "stdout",
     "output_type": "stream",
     "text": [
      "ㅐ: 100.0%\n",
      "ㅏ: 0.0%\n",
      "ㅓ: 0.0%\n",
      "ㅗ: 0.0%\n",
      "Pitch : 59.2Hz\n",
      "Formants : 1402.6Hz, 3389.5Hz, 5184.3Hz, 5769.9Hz\n"
     ]
    }
   ],
   "source": [
    "a = np.array(board[nwF1in][nwF2in])\n",
    "b = probability(a)\n",
    "a = softmax(a)\n",
    "\n",
    "precision = 1\n",
    "pairs_a = [[round(a[i]*100,precision),list(vowels.keys())[i]] for i in range(len(vowels.items()))]\n",
    "pairs_b = [[round(b[i]*100,precision),list(vowels.keys())[i]] for i in range(len(vowels.items()))]\n",
    "pairs_b = sorted(pairs_b,key=lambda x:x[0],reverse=True)\n",
    "\n",
    "nVW = 4\n",
    "for x in pairs_b[:nVW]:\n",
    "    print(x[1],\": \",x[0],\"%\",sep='',end='\\n')\n",
    "    \n",
    "print(f\"Pitch : {round(fp,1)}Hz\")\n",
    "\n",
    "print(f'Formants : ',end='')\n",
    "nFM = 4\n",
    "for i,x in enumerate(fm[:nFM]):\n",
    "    print(round(x,1),\"Hz\",sep='',end='\\n' if i+1==nFM else ', ')"
   ]
  }
 ],
 "metadata": {
  "kernelspec": {
   "display_name": "Python 3",
   "language": "python",
   "name": "python3"
  },
  "language_info": {
   "codemirror_mode": {
    "name": "ipython",
    "version": 3
   },
   "file_extension": ".py",
   "mimetype": "text/x-python",
   "name": "python",
   "nbconvert_exporter": "python",
   "pygments_lexer": "ipython3",
   "version": "3.11.6"
  },
  "orig_nbformat": 4
 },
 "nbformat": 4,
 "nbformat_minor": 2
}
