{
 "cells": [
  {
   "cell_type": "markdown",
   "metadata": {},
   "source": [
    "## <b> 데이터 시각화 </b>\n",
    "#### 인지실험 데이터 시각화 관련 프로그램"
   ]
  },
  {
   "cell_type": "code",
   "execution_count": 269,
   "metadata": {
    "notebookRunGroups": {
     "groupValue": "2"
    }
   },
   "outputs": [],
   "source": [
    "import os\n",
    "import pandas as pd\n",
    "import numpy as np\n",
    "import random\n",
    "import math\n",
    "import matplotlib\n",
    "from  matplotlib import pyplot as plt\n",
    "%matplotlib qt\n",
    "import scipy\n",
    "import librosa\n",
    "import librosa.display\n",
    "from scipy.io import wavfile\n",
    "import scipy.fftpack as fft\n",
    "from scipy.signal import get_window\n",
    "import FVA.FVA as fva\n",
    "from FVA.lpc import *\n",
    "from FVA.detect import *\n",
    "from FVA.mfcc import *\n",
    "from FVA.animation import *\n",
    "from FVAmanager import *\n",
    "from DB.DBmanager import *\n",
    "import matplotlib\n",
    "from  matplotlib import pyplot as plt\n",
    "%matplotlib qt\n",
    "#-*-coding:utf-8-*-\n",
    "import matplotlib.colors as mcolors\n",
    "import matplotlib.ticker as mticker\n",
    "matplotlib.rcParams['font.family'] ='Malgun Gothic'\n",
    "matplotlib.rcParams['axes.unicode_minus'] =False"
   ]
  },
  {
   "cell_type": "markdown",
   "metadata": {
    "notebookRunGroups": {
     "groupValue": ""
    }
   },
   "source": [
    "## <b> Data Load </b>"
   ]
  },
  {
   "cell_type": "code",
   "execution_count": 270,
   "metadata": {
    "notebookRunGroups": {
     "groupValue": "2"
    }
   },
   "outputs": [],
   "source": [
    "nF1, nF2        =   10, 10\n",
    "result, users   =   getDB()\n",
    "formants        =   pd.read_excel(\"DB/sounds.xlsx\")\n",
    "vowels          =   {'ㅏ':0,'ㅓ':1,'ㅗ':2,'ㅜ':3,'ㅡ':4,'ㅣ':5,'ㅐ':6,'ㅔ':7}\n",
    "colors          =   ['red','green','orange','dodgerblue','deeppink','aqua','blueviolet','yellow']\n",
    "counts          =   np.zeros((8,nF1,nF2))\n",
    "userDict        =   {a[0]:a[1] for a in users.values.tolist()}"
   ]
  },
  {
   "cell_type": "code",
   "execution_count": 271,
   "metadata": {
    "notebookRunGroups": {
     "groupValue": "2"
    }
   },
   "outputs": [],
   "source": [
    "def toymd(x):\n",
    "   return x.split('T')[0]\n",
    "\n",
    "def countSetup(namefilter=None,timefilter=None):\n",
    "   \"\"\"\n",
    "   Args:\n",
    "      namefilter (list): [names]\n",
    "      timefilter (list): [start, end] with \"2023-10-03\" style\n",
    "   \"\"\"\n",
    "   counts = np.zeros((8,nF1,nF2))\n",
    "   for x in result.values.tolist():\n",
    "      if (namefilter is None) or (userDict.get(x[4],None) in namefilter):\n",
    "         if (timefilter is None) or (timefilter[0]<=toymd(x[3]) and timefilter[0]<=toymd(x[3])):\n",
    "            counts[vowels[x[2]]][int(x[1].split('_')[0])-1][int(x[1].split('_')[1].split('.')[0])-1] += 1\n",
    "   \n",
    "   return counts.transpose(1,2,0)"
   ]
  },
  {
   "cell_type": "code",
   "execution_count": 272,
   "metadata": {
    "notebookRunGroups": {
     "groupValue": "2"
    }
   },
   "outputs": [],
   "source": [
    "NameFilter = ['노수빈']\n",
    "TimeFilter = None#['2023-09-27','2023-10-03']"
   ]
  },
  {
   "cell_type": "code",
   "execution_count": 273,
   "metadata": {
    "notebookRunGroups": {
     "groupValue": "2"
    }
   },
   "outputs": [
    {
     "name": "stdout",
     "output_type": "stream",
     "text": [
      "1225.0\n"
     ]
    }
   ],
   "source": [
    "board = countSetup(namefilter=NameFilter,timefilter=TimeFilter)\n",
    "print(board.sum())"
   ]
  },
  {
   "cell_type": "markdown",
   "metadata": {},
   "source": [
    "## <b> Data Visuallization"
   ]
  },
  {
   "cell_type": "code",
   "execution_count": 191,
   "metadata": {},
   "outputs": [],
   "source": [
    "k = 800\n",
    "\n",
    "def softmax(x): # numpy array!!\n",
    "    return np.exp(x) / np.sum(np.exp(x), axis=0)\n",
    "\n",
    "def probability(a): # numpy array!!\n",
    "    sum = a.sum()\n",
    "    return a/sum\n",
    "\n",
    "def print_randDot(fig,xrange:list,yrange:list,color,prob:float):\n",
    "    \"\"\"\n",
    "    Args:\n",
    "        fig (figure): \n",
    "        xrange (list): [xmin, xmax]\n",
    "        yrange (list): [ymin, ymax]\n",
    "        color (str): color of dot (plt.scatter(color) style)\n",
    "        prob (float): probability of dot in [0,1]\n",
    "    \"\"\"\n",
    "    nDot = int(round(prob * k, 0))\n",
    "    x = [random.uniform(yrange[0],yrange[1]) for i in range(nDot)]\n",
    "    y = [random.uniform(xrange[0],xrange[1]) for i in range(nDot)]\n",
    "    plt.scatter(x,y,c=color,marker='o',s=6,alpha=0.25)\n",
    "    \n",
    "fig = plt.figure()\n",
    "ax  = fig.add_subplot()\n",
    "plt.gca().set_aspect('equal', adjustable='box')\n",
    "ax.set_ylim([0,nF1])\n",
    "ax.set_xlim([0,nF2])\n",
    "for i in range(nF1):\n",
    "    for q in range(nF2):\n",
    "        a = probability(np.array(board[i][q]))\n",
    "        for w in range(8):\n",
    "            print_randDot(fig,[9-i,10-i],[9-q,10-q],colors[w],a[w])\n",
    "\n",
    "for i,vowel in enumerate(vowels.keys()):\n",
    "    plt.scatter([],[],s=50,c=colors[i],marker='o',label=vowel)\n",
    "plt.rc('legend', fontsize=20)\n",
    "plt.legend(loc='lower left', bbox_to_anchor=(1.0,0.5))\n",
    "\n",
    "plt.show()"
   ]
  },
  {
   "cell_type": "code",
   "execution_count": 274,
   "metadata": {},
   "outputs": [],
   "source": [
    "fig, ax = plt.subplots(nF1,nF2+1)\n",
    "plt.gca().set_aspect('equal', adjustable='box')\n",
    "for i in range(nF1):\n",
    "    for q in range(nF2+1):\n",
    "        ax[i][q].xaxis.set_visible(False)\n",
    "        ax[i][q].yaxis.set_visible(False)\n",
    "        ax[i][q].axis('off')\n",
    "        if q<nF2:\n",
    "            ax[i][nF2-1-q].pie(np.array(board[i][q]),colors=colors,radius=1.3)\n",
    "for i,vowel in enumerate(vowels.keys()):\n",
    "    ax[nF1-1][nF2].scatter([],[],s=150,c=colors[i],marker='o',label=vowel)\n",
    "\n",
    "plt.rc('legend', fontsize=20)\n",
    "plt.legend(loc='lower left', bbox_to_anchor=(0.0,5.0))\n",
    "plt.show()"
   ]
  }
 ],
 "metadata": {
  "kernelspec": {
   "display_name": "Python 3",
   "language": "python",
   "name": "python3"
  },
  "language_info": {
   "codemirror_mode": {
    "name": "ipython",
    "version": 3
   },
   "file_extension": ".py",
   "mimetype": "text/x-python",
   "name": "python",
   "nbconvert_exporter": "python",
   "pygments_lexer": "ipython3",
   "version": "3.11.5"
  },
  "orig_nbformat": 4
 },
 "nbformat": 4,
 "nbformat_minor": 2
}
